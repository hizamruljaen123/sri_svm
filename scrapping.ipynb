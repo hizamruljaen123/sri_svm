{
 "cells": [
  {
   "cell_type": "code",
   "execution_count": 2,
   "metadata": {},
   "outputs": [
    {
     "name": "stdout",
     "output_type": "stream",
     "text": [
      "File 'web/static/data/gotube/data_uji.xlsx' tidak ditemukan. Melakukan scraping.\n",
      "Scraping reviews for App ID: premium.gotube.adblock.utube\n",
      "Scraping selesai. Data disimpan di 'web/static/data/gotube/data_uji.xlsx' dan 'web/static/data/gotube/data_test.xlsx'.\n",
      "Proses selesai.\n"
     ]
    }
   ],
   "source": [
    "from google_play_scraper import reviews, Sort\n",
    "import pandas as pd\n",
    "import os\n",
    "from urllib.parse import urlparse, parse_qs\n",
    "\n",
    "def extract_app_id(playstore_url):\n",
    "    parsed_url = urlparse(playstore_url)\n",
    "    query_params = parse_qs(parsed_url.query)\n",
    "    if \"id\" in query_params:\n",
    "        return query_params[\"id\"][0]\n",
    "    raise ValueError(\"Invalid Play Store URL. Could not find 'id' parameter.\")\n",
    "\n",
    "def scrape_reviews_from_url(playstore_url, lang='id', country='id', num_reviews=100):\n",
    "    app_id = extract_app_id(playstore_url)\n",
    "    print(f\"Scraping reviews for App ID: {app_id}\")\n",
    "    all_reviews = []\n",
    "    count = 0\n",
    "\n",
    "    while count < num_reviews:\n",
    "        result, _ = reviews(\n",
    "            app_id,\n",
    "            lang=lang,\n",
    "            country=country,\n",
    "            sort=Sort.NEWEST,  # Correctly use Sort enum for sorting\n",
    "            count=min(1000, num_reviews - count)\n",
    "        )\n",
    "        all_reviews.extend(result)\n",
    "        count += len(result)\n",
    "        if len(result) < 100:\n",
    "            break\n",
    "\n",
    "    # Convert to DataFrame\n",
    "    df = pd.DataFrame(all_reviews)\n",
    "    df = df[['userName', 'content', 'score']]\n",
    "    df.rename(columns={'userName': 'user', 'content': 'komentar', 'score': 'rating'}, inplace=True)\n",
    "\n",
    "    return df\n",
    "\n",
    "def add_labels_to_reviews(df):\n",
    "    # Add labeling based on rating\n",
    "    def label_rating(rating):\n",
    "        if rating in [1, 2]:\n",
    "            return 'negatif'\n",
    "        elif rating in [3, 4, 5]:\n",
    "            return 'positif'\n",
    "\n",
    "    df['label'] = df['rating'].apply(label_rating)\n",
    "    df['sentimen'] = df['label']  # Add 'sentimen' column identical to 'label'\n",
    "    return df\n",
    "\n",
    "# Contoh penggunaan\n",
    "playstore_url = \"https://play.google.com/store/apps/details?id=premium.gotube.adblock.utube&hl=id\"\n",
    "data_latih_file = \"web/static/data/gotube/data_uji.xlsx\"\n",
    "data_latih_labeled_file = \"web/static/data/gotube/data_test.xlsx\"\n",
    "\n",
    "if os.path.exists(data_latih_file):\n",
    "    print(f\"File '{data_latih_file}' ditemukan. Menambahkan label pada data yang ada.\")\n",
    "    reviews_df = pd.read_excel(data_latih_file)\n",
    "    reviews_df = add_labels_to_reviews(reviews_df)\n",
    "    reviews_df.to_excel(data_latih_labeled_file, index=False)\n",
    "    print(f\"Data dengan label disimpan di '{data_latih_labeled_file}'.\")\n",
    "else:\n",
    "    print(f\"File '{data_latih_file}' tidak ditemukan. Melakukan scraping.\")\n",
    "    reviews_df = scrape_reviews_from_url(playstore_url, num_reviews=200)\n",
    "    reviews_df = add_labels_to_reviews(reviews_df)\n",
    "    reviews_df.to_excel(data_latih_file, index=False)\n",
    "    reviews_df.to_excel(data_latih_labeled_file, index=False)\n",
    "    print(f\"Scraping selesai. Data disimpan di '{data_latih_file}' dan '{data_latih_labeled_file}'.\")\n",
    "\n",
    "# Output hasil\n",
    "print(\"Proses selesai.\")\n"
   ]
  },
  {
   "cell_type": "markdown",
   "metadata": {},
   "source": []
  }
 ],
 "metadata": {
  "kernelspec": {
   "display_name": "base",
   "language": "python",
   "name": "python3"
  },
  "language_info": {
   "codemirror_mode": {
    "name": "ipython",
    "version": 3
   },
   "file_extension": ".py",
   "mimetype": "text/x-python",
   "name": "python",
   "nbconvert_exporter": "python",
   "pygments_lexer": "ipython3",
   "version": "3.11.7"
  }
 },
 "nbformat": 4,
 "nbformat_minor": 2
}
